{
 "cells": [
  {
   "cell_type": "code",
   "execution_count": 156,
   "metadata": {},
   "outputs": [],
   "source": [
    "import numpy as np\n",
    "import matplotlib.pyplot as plt\n",
    "import seaborn as sns\n",
    "\n",
    "sns.set(style=\"ticks\", font_scale = 1.2)"
   ]
  },
  {
   "cell_type": "code",
   "execution_count": 157,
   "metadata": {},
   "outputs": [],
   "source": [
    "#Create an array of wells (wish it was this easy in real life)\n",
    "rows = 1000\n",
    "cols = 1000\n",
    "n_wells = rows*cols\n",
    "dd_array = np.zeros((rows, cols))\n",
    "\n",
    "conc = int(n_wells*0.1)\n",
    "vol = 1 #mL\n",
    "vol_well = vol/n_wells #mL/well"
   ]
  },
  {
   "cell_type": "code",
   "execution_count": 158,
   "metadata": {},
   "outputs": [],
   "source": [
    "#Fill the wells with the molecules\n",
    "for molecule in range(conc):\n",
    "    i = np.random.randint(0, rows-1)\n",
    "    j = np.random.randint(0, cols-1)\n",
    "    dd_array[i][j] += 1"
   ]
  },
  {
   "cell_type": "code",
   "execution_count": 159,
   "metadata": {},
   "outputs": [
    {
     "data": {
      "text/plain": [
       "array([9.05079e+05, 9.00030e+04, 4.76000e+03, 1.55000e+02, 3.00000e+00])"
      ]
     },
     "execution_count": 159,
     "metadata": {},
     "output_type": "execute_result"
    }
   ],
   "source": [
    "#Determine the population in each well and the frequency of each population\n",
    "array_max = int(np.amax(dd_array))\n",
    "freq_list = np.zeros(array_max + 1)\n",
    "\n",
    "for i in range(rows):\n",
    "    for j in range(cols):\n",
    "        freq_list[int(dd_array[i][j])] += 1\n",
    "    \n",
    "freq_list"
   ]
  },
  {
   "cell_type": "code",
   "execution_count": 160,
   "metadata": {},
   "outputs": [
    {
     "data": {
      "text/plain": [
       "<BarContainer object of 5 artists>"
      ]
     },
     "execution_count": 160,
     "metadata": {},
     "output_type": "execute_result"
    },
    {
     "data": {
      "image/png": "[encoded data removed]",
      "text/plain": [
       "<Figure size 432x288 with 1 Axes>"
      ]
     },
     "metadata": {},
     "output_type": "display_data"
    }
   ],
   "source": [
    "#Make a plot for visual intuition\n",
    "xdata = range(int(len(freq_list)))\n",
    "ydata = list(freq_list)\n",
    "\n",
    "plt.bar(xdata, ydata)"
   ]
  },
  {
   "cell_type": "code",
   "execution_count": 161,
   "metadata": {},
   "outputs": [
    {
     "data": {
      "text/plain": [
       "99733.04627432772"
      ]
     },
     "execution_count": 161,
     "metadata": {},
     "output_type": "execute_result"
    }
   ],
   "source": [
    "# Calculate the concentration of the original sample\n",
    "def calc_conc(z, n, V):\n",
    "    mcp = (-1)*np.log(z/n)\n",
    "    return mcp/V\n",
    "\n",
    "calc_conc(freq_list[0], rows*cols, vol_well)"
   ]
  }
 ],
 "metadata": {
  "kernelspec": {
   "display_name": "Python 3",
   "language": "python",
   "name": "python3"
  },
  "language_info": {
   "codemirror_mode": {
    "name": "ipython",
    "version": 3
   },
   "file_extension": ".py",
   "mimetype": "text/x-python",
   "name": "python",
   "nbconvert_exporter": "python",
   "pygments_lexer": "ipython3",
   "version": "3.6.5"
  }
 },
 "nbformat": 4,
 "nbformat_minor": 2
}
